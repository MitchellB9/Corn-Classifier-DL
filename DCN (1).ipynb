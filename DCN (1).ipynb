{
 "cells": [
  {
   "cell_type": "code",
   "execution_count": 1,
   "id": "601ff341",
   "metadata": {},
   "outputs": [],
   "source": [
    "import pandas as pd\n",
    "import numpy as np\n",
    "import keras\n",
    "import glob\n",
    "import os\n",
    "import random\n",
    "import pickle\n",
    "from skimage import io\n",
    "from sklearn.datasets import fetch_openml\n",
    "from sklearn.model_selection import train_test_split\n",
    "from tensorflow.keras.utils import to_categorical\n",
    "from PIL import Image\n",
    "import tensorflow as tf\n",
    "# from tensorflow import keras\n",
    "from tensorflow.keras.models import Sequential\n",
    "from tensorflow.keras.layers import Dense, Conv2D, MaxPooling2D, Flatten, InputLayer\n",
    "from sklearn.metrics import accuracy_score\n",
    "from tensorflow.keras.applications.vgg16 import VGG16\n",
    "from tensorflow.keras.applications.efficientnet_v2 import EfficientNetV2L\n",
    "from tensorflow.keras.applications.nasnet import NASNetLarge\n",
    "from tensorflow.keras.applications.inception_resnet_v2 import InceptionResNetV2\n",
    "from tensorflow.keras.applications.xception import Xception\n",
    "from tensorflow.keras.layers import ZeroPadding2D, Dropout\n",
    "from tensorflow.compat.v1.keras.preprocessing.image import ImageDataGenerator"
   ]
  },
  {
   "cell_type": "code",
   "execution_count": 2,
   "id": "1d2402aa",
   "metadata": {},
   "outputs": [],
   "source": [
    "with open('X_train', 'rb') as f:\n",
    "    X_train = pickle.load(f)\n",
    "with open('X_test', 'rb') as f:\n",
    "    X_test = pickle.load(f)\n",
    "with open('y_train', 'rb') as f:\n",
    "    y_train = pickle.load(f)\n",
    "with open('y_test', 'rb') as f:\n",
    "    y_test = pickle.load(f)"
   ]
  },
  {
   "cell_type": "code",
   "execution_count": 3,
   "id": "243b2694",
   "metadata": {},
   "outputs": [],
   "source": [
    "# base = VGG16(weights='imagenet', include_top=False, input_shape=(128,128,3))\n",
    "base = EfficientNetV2L(weights='imagenet', include_top=False, input_shape=(128,128,3))\n",
    "# base = NASNetLarge(weights='imagenet', include_top=False, input_shape=(128,128,3))\n",
    "# base = InceptionResNetV2(weights='imagenet', include_top=False, input_shape=(128,128,3))\n",
    "# base = Xception(weights='imagenet', include_top=False, input_shape=(128,128,3))"
   ]
  },
  {
   "cell_type": "code",
   "execution_count": 4,
   "id": "c0b7e94b",
   "metadata": {},
   "outputs": [],
   "source": [
    "for layer in base.layers:\n",
    "    layer.trainable = False  "
   ]
  },
  {
   "cell_type": "code",
   "execution_count": 5,
   "id": "3908b793",
   "metadata": {},
   "outputs": [],
   "source": [
    "# datagen = ImageDataGenerator(\n",
    "#     rotation_range = 355,\n",
    "#     vertical_flip = True,\n",
    "#     horizontal_flip = True,\n",
    "#     validation_split = 0.25)"
   ]
  },
  {
   "cell_type": "code",
   "execution_count": 6,
   "id": "fd1d03f4",
   "metadata": {},
   "outputs": [],
   "source": [
    "# datagen.fit(X_train)"
   ]
  },
  {
   "cell_type": "code",
   "execution_count": 7,
   "id": "fbb9a7a9",
   "metadata": {},
   "outputs": [],
   "source": [
    "# DCN structure\n",
    "\n",
    "# **************\n",
    "perceptrons = 32\n",
    "# activationFunction = 'relu'\n",
    "# activationFunction = 'LeakyReLU'\n",
    "activationFunction = 'elu'\n",
    "\n",
    "DCN = Sequential(\n",
    "                [InputLayer(input_shape=X_train.shape[1:]), # 128x128x3 input layer\n",
    "                 base,\n",
    "                 Flatten(),\n",
    "                 # **************\n",
    "                 Dense(perceptrons, activation=activationFunction), # Hidden 1\n",
    "                 Dense(perceptrons, activation=activationFunction), # Hidden 2\n",
    "                 Dense(perceptrons, activation=activationFunction), # Hidden 3\n",
    "                 Dense(perceptrons, activation=activationFunction), # Hidden 4\n",
    "#                *****************************\n",
    "                 Dense(perceptrons, activation=activationFunction), # Hidden 5\n",
    "                 Dense(perceptrons, activation=activationFunction), # Hidden 6\n",
    "                 Dense(perceptrons, activation=activationFunction), # Hidden 7\n",
    "                 Dense(perceptrons, activation=activationFunction), # Hidden 8\n",
    "                 Dense(4, activation='softmax')]\n",
    "               )\n",
    "\n",
    "DCN.compile(\n",
    "    loss='categorical_crossentropy',\n",
    "    optimizer=tf.keras.optimizers.Adam(learning_rate=1e-2), # **************\n",
    "    metrics=['accuracy'],\n",
    ")"
   ]
  },
  {
   "cell_type": "code",
   "execution_count": 14,
   "id": "dcdf2d47",
   "metadata": {},
   "outputs": [
    {
     "name": "stdout",
     "output_type": "stream",
     "text": [
      "Epoch 1/8\n",
      "40/40 [==============================] - 161s 4s/step - loss: 0.1563 - accuracy: 0.9427 - val_loss: 0.3015 - val_accuracy: 0.8902\n",
      "Epoch 2/8\n",
      "40/40 [==============================] - 163s 4s/step - loss: 0.1318 - accuracy: 0.9542 - val_loss: 0.4294 - val_accuracy: 0.8878\n",
      "Epoch 3/8\n",
      "40/40 [==============================] - 165s 4s/step - loss: 0.1205 - accuracy: 0.9562 - val_loss: 0.3384 - val_accuracy: 0.9010\n",
      "Epoch 4/8\n",
      "40/40 [==============================] - 164s 4s/step - loss: 0.1277 - accuracy: 0.9582 - val_loss: 0.3386 - val_accuracy: 0.8914\n",
      "Epoch 5/8\n",
      "40/40 [==============================] - 163s 4s/step - loss: 0.1002 - accuracy: 0.9618 - val_loss: 0.2947 - val_accuracy: 0.9033\n",
      "Epoch 6/8\n",
      "40/40 [==============================] - 165s 4s/step - loss: 0.1328 - accuracy: 0.9622 - val_loss: 0.2615 - val_accuracy: 0.9081\n",
      "Epoch 7/8\n",
      "40/40 [==============================] - 167s 4s/step - loss: 0.3387 - accuracy: 0.8985 - val_loss: 0.5225 - val_accuracy: 0.8473\n",
      "Epoch 8/8\n",
      "40/40 [==============================] - 168s 4s/step - loss: 0.8075 - accuracy: 0.7938 - val_loss: 0.3318 - val_accuracy: 0.8699\n"
     ]
    },
    {
     "data": {
      "text/plain": [
       "<keras.callbacks.History at 0x28600989cd0>"
      ]
     },
     "execution_count": 14,
     "metadata": {},
     "output_type": "execute_result"
    }
   ],
   "source": [
    "DCN.fit(X_train, y_train, batch_size=64, epochs=8, verbose=1, validation_split=0.25) # **************"
   ]
  },
  {
   "cell_type": "code",
   "execution_count": 9,
   "id": "3b2b483e",
   "metadata": {},
   "outputs": [],
   "source": [
    "# DCN.fit(datagen.flow(X_train, y_train, batch_size=64,\n",
    "#          subset='training'),\n",
    "#          validation_data=datagen.flow(X_train, y_train,\n",
    "#          batch_size=64, subset='validation'),\n",
    "#          batch_size=64, epochs=10)"
   ]
  },
  {
   "cell_type": "code",
   "execution_count": 10,
   "id": "78119dcf",
   "metadata": {},
   "outputs": [],
   "source": [
    "y_train_cat = []\n",
    "for y in y_test:\n",
    "    for k in range(len(y)):\n",
    "        if y[k] == 1:\n",
    "            y_train_cat.append(k)\n",
    "            break"
   ]
  },
  {
   "cell_type": "code",
   "execution_count": 11,
   "id": "6853a447",
   "metadata": {},
   "outputs": [
    {
     "name": "stdout",
     "output_type": "stream",
     "text": [
      "27/27 [==============================] - 47s 2s/step\n"
     ]
    },
    {
     "data": {
      "text/plain": [
       "0.8949880668257757"
      ]
     },
     "execution_count": 11,
     "metadata": {},
     "output_type": "execute_result"
    }
   ],
   "source": [
    "accuracy_score(y_train_cat, np.argmax(DCN.predict(X_test), axis=-1))"
   ]
  },
  {
   "cell_type": "code",
   "execution_count": 12,
   "id": "84e3254a",
   "metadata": {},
   "outputs": [],
   "source": [
    "# y_train_cat"
   ]
  },
  {
   "cell_type": "code",
   "execution_count": 13,
   "id": "e5d0e0d4",
   "metadata": {},
   "outputs": [],
   "source": [
    "# Priorities\n",
    "\n",
    "# look into if we can replicate a different NN-Structure from videos\n",
    "# Create non-deep learning approach (no activation function, no hidden layers, just linear regression)\n",
    "# complete EDA\n",
    "# data augmentation with keras data generation\n",
    "# possibly other activation functions?"
   ]
  }
 ],
 "metadata": {
  "kernelspec": {
   "display_name": "Python 3 (ipykernel)",
   "language": "python",
   "name": "python3"
  },
  "language_info": {
   "codemirror_mode": {
    "name": "ipython",
    "version": 3
   },
   "file_extension": ".py",
   "mimetype": "text/x-python",
   "name": "python",
   "nbconvert_exporter": "python",
   "pygments_lexer": "ipython3",
   "version": "3.9.7"
  }
 },
 "nbformat": 4,
 "nbformat_minor": 5
}
